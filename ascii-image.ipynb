{
 "cells": [
  {
   "cell_type": "markdown",
   "id": "c190fd14",
   "metadata": {},
   "source": [
    "# Ascii to 64x64 image"
   ]
  },
  {
   "cell_type": "markdown",
   "id": "f18830ea",
   "metadata": {},
   "source": [
    "## Import Necessary Libraries"
   ]
  },
  {
   "cell_type": "code",
   "execution_count": 28,
   "id": "d01a1f6a",
   "metadata": {},
   "outputs": [],
   "source": [
    "from PIL import Image\n",
    "import math\n",
    "import numpy as np\n",
    "import os"
   ]
  },
  {
   "cell_type": "markdown",
   "id": "d8ae6c0a",
   "metadata": {},
   "source": [
    "## Reading ascii image"
   ]
  },
  {
   "cell_type": "code",
   "execution_count": 29,
   "id": "5c107bf8",
   "metadata": {},
   "outputs": [],
   "source": [
    "# TWO NECESSARY THINGS TO CHANGE\n",
    "# This is the text file that'll be used to generate the image\n",
    "ascii_file_txt = 'input-txts/message-2.txt'\n",
    "# This is the name of the folder you want it to be saved in\n",
    "ascii_file_txt_name = 'message-2'\n",
    "\n",
    "with open(ascii_file_txt) as ascii_image:\n",
    "    ascii_image = ascii_image.readlines()\n",
    "    \n",
    "#print(ascii_image)"
   ]
  },
  {
   "cell_type": "markdown",
   "id": "0ecd151d",
   "metadata": {},
   "source": [
    "## Creating Value Dictionary"
   ]
  },
  {
   "cell_type": "code",
   "execution_count": 30,
   "id": "551a8278",
   "metadata": {},
   "outputs": [],
   "source": [
    "# List used to determine relative position of sublist items\n",
    "FULL_ASCII_CHARS = ['@', '#', '$', 'B', '%', '?', '8', '&', 'W', 'M', '*', 'o', 'a', 'h', 'k', 'b', 'd', 'p', 'q', 'w', 'm', 'Z', 'O', '0', 'Q', 'L', 'C', 'J', 'U', 'Y', 'X', 'z', 'c', 'v', 'u', 'n', 'x', 'r', 'j', 'f', 't', '/', '\\\\', '|', '(', ')', '1', '{', '}', '[', ']', '-', '_', '+', '~', '<', '>', 'i', '!', 'l', 'I', ';', ':', ',', '^', '`', \"'\", '.', ' ']\n",
    "\n",
    "# Removes all the \\n characters\n",
    "ascii_image = [ascii_line.replace('\\n', '') for ascii_line in ascii_image]\n",
    "\n",
    "# Finds all the unique characters in the image\n",
    "unique_list = []\n",
    "for row in range(len(ascii_image)):\n",
    "    for cell in range(len(ascii_image[row])):\n",
    "        if(ascii_image[row][cell] not in unique_list):\n",
    "            unique_list.append(ascii_image[row][cell])\n",
    "#print(unique_list)\n",
    "\n",
    "# Sorts the list of ascii characters relative to the FULL_ASCII_CHARS list\n",
    "sorted_unique_list = sorted(unique_list, key=FULL_ASCII_CHARS.index)\n",
    "#print(sorted_unique_list)\n",
    "\n",
    "# Generates the Step Value\n",
    "sorted_list_length = len(sorted_unique_list)\n",
    "color_distance = 255 / sorted_list_length\n",
    "color_distance = math.floor(color_distance)\n",
    "\n",
    "# Outputs the final dictionary\n",
    "sorted_list_dictionary = {item: int(index * color_distance) for index, item in enumerate(sorted_unique_list)}\n",
    "#print(sorted_list_dictionary)"
   ]
  },
  {
   "cell_type": "markdown",
   "id": "75a2abce",
   "metadata": {},
   "source": [
    "## Generating Image"
   ]
  },
  {
   "cell_type": "code",
   "execution_count": 31,
   "id": "cc7dd340",
   "metadata": {},
   "outputs": [
    {
     "data": {
      "image/png": "[encoded data removed]",
      "text/plain": [
       "<PIL.Image.Image image mode=L size=64x64>"
      ]
     },
     "metadata": {},
     "output_type": "display_data"
    }
   ],
   "source": [
    "low_res_bw_decode_array = []\n",
    "for row in range(len(ascii_image)):\n",
    "    current_row = []\n",
    "    for cell in range(len(ascii_image[row])):\n",
    "        current_row.append(sorted_list_dictionary[ascii_image[row][cell]])\n",
    "    \n",
    "    low_res_bw_decode_array.append(current_row)\n",
    "    \n",
    "#print(low_res_bw_decode_array)\n",
    "\n",
    "low_res_bw_decode_numpy = np.array(low_res_bw_decode_array)\n",
    "\n",
    "low_res_bw_decode_image = Image.fromarray(low_res_bw_decode_numpy.astype('uint8'))\n",
    "\n",
    "# Shows the image\n",
    "display(low_res_bw_decode_image)\n",
    "\n",
    "# Saves the image\n",
    "# Check if folder exists\n",
    "if not os.path.exists(\"output-imgs/\" + ascii_file_txt_name):\n",
    "    # If not, then create it\n",
    "    os.makedirs(\"output-imgs/\" + ascii_file_txt_name)\n",
    "\n",
    "low_res_bw_decode_image.save(\"output-imgs/\" + ascii_file_txt_name + \"/0-64-hc-bw-image.png\")"
   ]
  },
  {
   "cell_type": "markdown",
   "id": "1aa3a5be",
   "metadata": {},
   "source": [
    "# 64x64 image to 256x256 image"
   ]
  },
  {
   "cell_type": "code",
   "execution_count": 32,
   "id": "c005a824",
   "metadata": {},
   "outputs": [
    {
     "data": {
      "image/png": "[encoded data removed]",
      "text/plain": [
       "<PIL.Image.Image image mode=L size=256x256>"
      ]
     },
     "metadata": {},
     "output_type": "display_data"
    }
   ],
   "source": [
    "# Upscales the image\n",
    "upscaled_img = low_res_bw_decode_image.resize((256,256), Image.NEAREST)\n",
    "\n",
    "# Displays the image\n",
    "display(upscaled_img)\n",
    "\n",
    "# Saves the image\n",
    "upscaled_img.save(\"output-imgs/\" + ascii_file_txt_name + \"/1-256-hc-bw-image.png\")"
   ]
  },
  {
   "cell_type": "markdown",
   "id": "ddd22ba4",
   "metadata": {},
   "source": [
    "# 256x256 to Smooth image"
   ]
  },
  {
   "cell_type": "code",
   "execution_count": 33,
   "id": "215fc057",
   "metadata": {},
   "outputs": [],
   "source": [
    "import torch\n",
    "from torch import nn\n",
    "from torchvision.transforms import ToTensor, Resize, Normalize, ToPILImage\n",
    "from PIL import Image\n",
    "import torchvision.utils as vutils\n",
    "import os"
   ]
  },
  {
   "cell_type": "code",
   "execution_count": 34,
   "id": "e73689c4",
   "metadata": {},
   "outputs": [],
   "source": [
    "# Load and preprocess the image\n",
    "from torchvision.transforms import Compose\n",
    "\n",
    "def convert_to_rgb(tensor):\n",
    "    return tensor.repeat(1, 3, 1, 1)\n",
    "\n",
    "def load_image_bw(img_path):\n",
    "    if isinstance(img_path, str):\n",
    "        img = Image.open(img_path).convert('L')\n",
    "    elif isinstance(img_path, Image.Image):\n",
    "        img = img_path.convert('L')\n",
    "    else:\n",
    "        raise ValueError(\"Invalid input type\")\n",
    "        \n",
    "    transform = Compose([\n",
    "        Resize((256, 256)),  # Resize to the size expected by the model\n",
    "        ToTensor(),\n",
    "        Normalize((0.5,), (0.5,))  # Adjusted for grayscale\n",
    "    ])\n",
    "    img = transform(img).unsqueeze(0)  # Add batch dimension\n",
    "    return img"
   ]
  },
  {
   "cell_type": "code",
   "execution_count": 35,
   "id": "29595aaa",
   "metadata": {},
   "outputs": [],
   "source": [
    "import torch.nn as nn\n",
    "import torch.nn.functional as F\n",
    "\n",
    "class ResnetBlock_bw(nn.Module):\n",
    "    def __init__(self, dim):\n",
    "        super(ResnetBlock_bw, self).__init__()\n",
    "        self.conv_block = self.build_conv_block(dim)\n",
    "\n",
    "    def build_conv_block(self, dim):\n",
    "        conv_block = [\n",
    "            nn.ReflectionPad2d(1),\n",
    "            nn.Conv2d(dim, dim, kernel_size=3, padding=0, bias=True),\n",
    "            nn.InstanceNorm2d(dim),\n",
    "            nn.ReLU(True),\n",
    "            nn.ReflectionPad2d(1),\n",
    "            nn.Conv2d(dim, dim, kernel_size=3, padding=0, bias=True),\n",
    "            nn.InstanceNorm2d(dim),\n",
    "        ]\n",
    "        return nn.Sequential(*conv_block)\n",
    "\n",
    "    def forward(self, x):\n",
    "        return x + self.conv_block(x)\n",
    "\n",
    "class Generator_bw(nn.Module):\n",
    "    def __init__(self, input_nc=1, output_nc=1, ngf=64, n_blocks=9):\n",
    "        assert(n_blocks >= 0)\n",
    "        super(Generator_bw, self).__init__()\n",
    "        self.input_nc = input_nc\n",
    "        self.output_nc = output_nc\n",
    "        self.ngf = ngf\n",
    "\n",
    "        model = [\n",
    "            nn.ReflectionPad2d(3),\n",
    "            nn.Conv2d(input_nc, ngf, kernel_size=7, padding=0, bias=True),\n",
    "            nn.InstanceNorm2d(ngf),\n",
    "            nn.ReLU(True),\n",
    "        ]\n",
    "\n",
    "        n_downsampling = 2\n",
    "        for i in range(n_downsampling):\n",
    "            mult = 2**i\n",
    "            model += [\n",
    "                nn.Conv2d(ngf * mult, ngf * mult * 2, kernel_size=3, stride=2, padding=1, bias=True),\n",
    "                nn.InstanceNorm2d(ngf * mult * 2),\n",
    "                nn.ReLU(True),\n",
    "            ]\n",
    "\n",
    "        mult = 2**n_downsampling\n",
    "        for i in range(n_blocks):\n",
    "            model += [ResnetBlock_bw(ngf * mult)]\n",
    "\n",
    "        for i in range(n_downsampling):\n",
    "            mult = 2**(n_downsampling - i)\n",
    "            model += [\n",
    "                nn.ConvTranspose2d(ngf * mult, int(ngf * mult / 2), kernel_size=3, stride=2, padding=1, output_padding=1, bias=True),\n",
    "                nn.InstanceNorm2d(int(ngf * mult / 2)),\n",
    "                nn.ReLU(True),\n",
    "            ]\n",
    "\n",
    "        model += [nn.ReflectionPad2d(3)]\n",
    "        model += [nn.Conv2d(ngf, output_nc, kernel_size=7, padding=0)]\n",
    "        model += [nn.Tanh()]\n",
    "\n",
    "        self.model = nn.Sequential(*model)\n",
    "\n",
    "    def forward(self, input):\n",
    "        return self.model(input)"
   ]
  },
  {
   "cell_type": "code",
   "execution_count": 36,
   "id": "1a55fa56",
   "metadata": {},
   "outputs": [],
   "source": [
    "def Ai_img_augmentation_bw(img, output_path):\n",
    "    # Load the model\n",
    "    model = Generator_bw()\n",
    "    model.load_state_dict(torch.load('models/bw-smoothing-model.pth'))\n",
    "    model.eval()\n",
    "    \n",
    "    # Load image and convert\n",
    "    input_image = load_image_bw(img)\n",
    "    with torch.no_grad():\n",
    "        output = model(input_image)\n",
    "        output_rgb = convert_to_rgb(output)\n",
    "    \n",
    "    # Save the generated image\n",
    "    vutils.save_image(output_rgb, output_path, normalize=True)\n",
    "    \n",
    "    # Convert tensor to numpy array\n",
    "    output_np = output_rgb.cpu().numpy()\n",
    "    \n",
    "    # Squeeze the batch and channel dimensions and convert the range from [-1, 1] to [0, 255]\n",
    "    output_np = np.squeeze(output_np)[0]\n",
    "    output_np = ((output_np + 1.0) / 2.0 * 255.0).astype('uint8')\n",
    "    \n",
    "    # Create a PIL Image\n",
    "    output_pil = Image.fromarray(output_np, 'L')\n",
    "    \n",
    "    return output_pil"
   ]
  },
  {
   "cell_type": "code",
   "execution_count": 37,
   "id": "514e5ead",
   "metadata": {},
   "outputs": [
    {
     "data": {
      "image/png": "[encoded data removed]",
      "text/plain": [
       "<PIL.Image.Image image mode=L size=256x256>"
      ]
     },
     "metadata": {},
     "output_type": "display_data"
    }
   ],
   "source": [
    "input_folder = 'input-imgs'\n",
    "output_folder = \"output-imgs/\" + ascii_file_txt_name\n",
    "filename = '2-256-bw-image.png'\n",
    "\n",
    "# NEED TO MAKE IT SAVE IMAGE AS VARIABLE AND SAVE IN FOLDER\n",
    "ai_aug_image = Ai_img_augmentation_bw(upscaled_img, os.path.join(output_folder, filename))\n",
    "display(ai_aug_image)"
   ]
  },
  {
   "cell_type": "markdown",
   "id": "62f8d471",
   "metadata": {},
   "source": [
    "# Smooth image to Color image"
   ]
  },
  {
   "cell_type": "code",
   "execution_count": 38,
   "id": "cb9541fb",
   "metadata": {},
   "outputs": [],
   "source": [
    "def load_image(img_path):\n",
    "    if isinstance(img_path, str):\n",
    "        img = Image.open(img_path).convert('RGB')\n",
    "    elif isinstance(img_path, Image.Image):\n",
    "        img = img_path.convert('RGB')\n",
    "    else:\n",
    "        raise ValueError(\"Invalid input type\")\n",
    "    \n",
    "    transform = Compose([\n",
    "        Resize((256, 256)),  # Resize to the size expected by the model\n",
    "        ToTensor(),\n",
    "        Normalize((0.5, 0.5, 0.5), (0.5, 0.5, 0.5))  # Normalize for RGB\n",
    "    ])\n",
    "    img = transform(img).unsqueeze(0)  # Add batch dimension\n",
    "    return img"
   ]
  },
  {
   "cell_type": "code",
   "execution_count": 39,
   "id": "f56e4b16",
   "metadata": {},
   "outputs": [],
   "source": [
    "class ResnetBlock(nn.Module):\n",
    "    def __init__(self, dim):\n",
    "        super(ResnetBlock, self).__init__()\n",
    "        self.conv_block = self.build_conv_block(dim)\n",
    "\n",
    "    def build_conv_block(self, dim):\n",
    "        conv_block = [\n",
    "            nn.ReflectionPad2d(1),\n",
    "            nn.Conv2d(dim, dim, kernel_size=3, padding=0, bias=True),\n",
    "            nn.InstanceNorm2d(dim),\n",
    "            nn.ReLU(True),\n",
    "            nn.ReflectionPad2d(1),\n",
    "            nn.Conv2d(dim, dim, kernel_size=3, padding=0, bias=True),\n",
    "            nn.InstanceNorm2d(dim),\n",
    "        ]\n",
    "        return nn.Sequential(*conv_block)\n",
    "\n",
    "    def forward(self, x):\n",
    "        return x + self.conv_block(x)\n",
    "\n",
    "class Generator(nn.Module):\n",
    "    def __init__(self, input_nc=3, output_nc=3, ngf=64, n_blocks=9):\n",
    "        assert(n_blocks >= 0)\n",
    "        super(Generator, self).__init__()\n",
    "        self.input_nc = input_nc\n",
    "        self.output_nc = output_nc\n",
    "        self.ngf = ngf\n",
    "\n",
    "        model = [\n",
    "            nn.ReflectionPad2d(3),\n",
    "            nn.Conv2d(input_nc, ngf, kernel_size=7, padding=0, bias=True),\n",
    "            nn.InstanceNorm2d(ngf),\n",
    "            nn.ReLU(True),\n",
    "        ]\n",
    "\n",
    "        n_downsampling = 2\n",
    "        for i in range(n_downsampling):\n",
    "            mult = 2**i\n",
    "            model += [\n",
    "                nn.Conv2d(ngf * mult, ngf * mult * 2, kernel_size=3, stride=2, padding=1, bias=True),\n",
    "                nn.InstanceNorm2d(ngf * mult * 2),\n",
    "                nn.ReLU(True),\n",
    "            ]\n",
    "\n",
    "        mult = 2**n_downsampling\n",
    "        for i in range(n_blocks):\n",
    "            model += [ResnetBlock(ngf * mult)]\n",
    "\n",
    "        for i in range(n_downsampling):\n",
    "            mult = 2**(n_downsampling - i)\n",
    "            model += [\n",
    "                nn.ConvTranspose2d(ngf * mult, int(ngf * mult / 2), kernel_size=3, stride=2, padding=1, output_padding=1, bias=True),\n",
    "                nn.InstanceNorm2d(int(ngf * mult / 2)),\n",
    "                nn.ReLU(True),\n",
    "            ]\n",
    "\n",
    "        model += [nn.ReflectionPad2d(3)]\n",
    "        model += [nn.Conv2d(ngf, output_nc, kernel_size=7, padding=0)]\n",
    "        model += [nn.Tanh()]\n",
    "\n",
    "        self.model = nn.Sequential(*model)\n",
    "\n",
    "    def forward(self, input):\n",
    "        return self.model(input)"
   ]
  },
  {
   "cell_type": "code",
   "execution_count": 40,
   "id": "3e3f9060",
   "metadata": {},
   "outputs": [],
   "source": [
    "def Ai_img_augmentation(img, output_path):\n",
    "    # Load the model\n",
    "    model = Generator(input_nc=3, output_nc=3)\n",
    "    model.load_state_dict(torch.load('models/color-model.pth'))\n",
    "    model.eval()\n",
    "    \n",
    "    # Load image and convert\n",
    "    input_image = load_image(img)\n",
    "    with torch.no_grad():\n",
    "        output = model(input_image)\n",
    "    \n",
    "    # Save the generated image\n",
    "    vutils.save_image(output, output_path, normalize=True)"
   ]
  },
  {
   "cell_type": "code",
   "execution_count": 41,
   "id": "d9099cc9",
   "metadata": {},
   "outputs": [],
   "source": [
    "input_folder = 'input-imgs'\n",
    "output_folder = \"output-imgs/\" + ascii_file_txt_name\n",
    "filename = '3-256-bw-image.png'\n",
    "\n",
    "final_image_gen = Ai_img_augmentation(ai_aug_image, os.path.join(output_folder, filename))"
   ]
  },
  {
   "cell_type": "code",
   "execution_count": null,
   "id": "b54b9800",
   "metadata": {},
   "outputs": [],
   "source": []
  }
 ],
 "metadata": {
  "kernelspec": {
   "display_name": "Python 3 (ipykernel)",
   "language": "python",
   "name": "python3"
  },
  "language_info": {
   "codemirror_mode": {
    "name": "ipython",
    "version": 3
   },
   "file_extension": ".py",
   "mimetype": "text/x-python",
   "name": "python",
   "nbconvert_exporter": "python",
   "pygments_lexer": "ipython3",
   "version": "3.9.13"
  }
 },
 "nbformat": 4,
 "nbformat_minor": 5
}
